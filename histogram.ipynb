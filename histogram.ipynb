{
 "cells": [
  {
   "cell_type": "code",
   "execution_count": 67,
   "metadata": {
    "collapsed": true
   },
   "outputs": [],
   "source": [
    "import numpy as np \n",
    "import pandas as pd\n",
    "import matplotlib.pyplot as plt \n",
    "from PIL import Image\n",
    "from ipywidgets import widgets\n",
    "from IPython.display import display\n",
    "%matplotlib inline "
   ]
  },
  {
   "cell_type": "code",
   "execution_count": 106,
   "metadata": {
    "collapsed": false
   },
   "outputs": [
    {
     "data": {
      "text/plain": [
       "'Unesite naziv slike'"
      ]
     },
     "metadata": {},
     "output_type": "display_data"
    }
   ],
   "source": [
    "#Odabir slike\n",
    "name = widgets.Text()\n",
    "display(name)\n",
    "display(\"Unesite naziv slike\")"
   ]
  },
  {
   "cell_type": "code",
   "execution_count": 107,
   "metadata": {
    "collapsed": false
   },
   "outputs": [],
   "source": [
    "#Ucitavanje slike\n",
    "img = Image.open(name.value)\n",
    "img = np.array(img.convert('L'))\n",
    "data = np.ravel(img).astype('float')\n",
    "size = data.size"
   ]
  },
  {
   "cell_type": "code",
   "execution_count": 108,
   "metadata": {
    "collapsed": false
   },
   "outputs": [
    {
     "data": {
      "image/png": "[encoded data removed]",
      "text/plain": [
       "<matplotlib.figure.Figure at 0xc0b0470>"
      ]
     },
     "metadata": {},
     "output_type": "display_data"
    }
   ],
   "source": [
    "#Histogram\n",
    "n, bins, b = plt.hist(data,range=[0,256], ec='k', bins=10)"
   ]
  },
  {
   "cell_type": "code",
   "execution_count": 109,
   "metadata": {
    "collapsed": false,
    "scrolled": false
   },
   "outputs": [
    {
     "data": {
      "text/plain": [
       "'Unesite vrednost k'"
      ]
     },
     "metadata": {},
     "output_type": "display_data"
    }
   ],
   "source": [
    "#Odredjivanje broja segmenata k na osnovu histograma\n",
    "k = widgets.IntText()\n",
    "display('Unesite vrednost k')\n",
    "display(k)"
   ]
  },
  {
   "cell_type": "code",
   "execution_count": 110,
   "metadata": {
    "collapsed": false
   },
   "outputs": [],
   "source": [
    "#incijalizacija parametara na osnovu histograma"
   ]
  },
  {
   "cell_type": "code",
   "execution_count": 111,
   "metadata": {
    "collapsed": false
   },
   "outputs": [],
   "source": [
    "k = k.value\n",
    "index = np.argsort(-n)"
   ]
  },
  {
   "cell_type": "code",
   "execution_count": 112,
   "metadata": {
    "collapsed": false
   },
   "outputs": [],
   "source": [
    "bin_list = []\n",
    "for i in range(k):\n",
    "    b = []\n",
    "    \n",
    "    for x in data:\n",
    "        if(bins[index[i]] < x and x < bins[index[i]+1]):\n",
    "            b.append(x)\n",
    "\n",
    "    bin_list.append(b)"
   ]
  },
  {
   "cell_type": "code",
   "execution_count": 113,
   "metadata": {
    "collapsed": false
   },
   "outputs": [],
   "source": [
    "mu = np.zeros(k)\n",
    "sigma = np.zeros(k)\n",
    "for i in range(k):\n",
    "    mu[i] = np.array(bin_list[i]).mean()\n",
    "    sigma[i] = np.std(np.array(bin_list[i]))"
   ]
  },
  {
   "cell_type": "code",
   "execution_count": 117,
   "metadata": {
    "collapsed": false
   },
   "outputs": [],
   "source": [
    "gaussians = n[index[:k]]\n",
    "s = np.sum(gaussians)\n",
    "p = gaussians/s"
   ]
  },
  {
   "cell_type": "code",
   "execution_count": 119,
   "metadata": {
    "collapsed": false
   },
   "outputs": [
    {
     "name": "stdout",
     "output_type": "stream",
     "text": [
      "p [ 0.77845433  0.09180328  0.07494145  0.05480094]\n",
      "sigma [ 2.53481766  2.66138803  5.94157755  7.89302241]\n",
      "mu [  40.41275572  105.56122449   71.8125       95.53846154]\n"
     ]
    }
   ],
   "source": [
    "#parametri\n",
    "print('p',p)\n",
    "print('sigma',sigma)\n",
    "print('mu',mu)"
   ]
  },
  {
   "cell_type": "code",
   "execution_count": 145,
   "metadata": {
    "collapsed": true
   },
   "outputs": [],
   "source": []
  },
  {
   "cell_type": "code",
   "execution_count": null,
   "metadata": {
    "collapsed": true
   },
   "outputs": [],
   "source": []
  }
 ],
 "metadata": {
  "kernelspec": {
   "display_name": "Python 3",
   "language": "python",
   "name": "python3"
  },
  "language_info": {
   "codemirror_mode": {
    "name": "ipython",
    "version": 3
   },
   "file_extension": ".py",
   "mimetype": "text/x-python",
   "name": "python",
   "nbconvert_exporter": "python",
   "pygments_lexer": "ipython3",
   "version": "3.6.0"
  },
  "widgets": {
   "state": {
    "1e93f80c329145c68fd55c233b928590": {
     "views": [
      {
       "cell_index": 4
      }
     ]
    },
    "96884f2e16e143ae99d9a22af9b074b7": {
     "views": [
      {
       "cell_index": 1
      }
     ]
    }
   },
   "version": "1.2.0"
  }
 },
 "nbformat": 4,
 "nbformat_minor": 2
}
