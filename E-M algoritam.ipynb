{
 "cells": [
  {
   "cell_type": "code",
   "execution_count": 4,
   "metadata": {
    "collapsed": true
   },
   "outputs": [],
   "source": [
    "import numpy as np \n",
    "import matplotlib.pyplot as plt\n",
    "import matplotlib.mlab as mlab\n",
    "from PIL import Image\n",
    "from scipy import ndimage\n",
    "from scipy import stats\n",
    "%matplotlib inline "
   ]
  },
  {
   "cell_type": "code",
   "execution_count": 5,
   "metadata": {
    "collapsed": false
   },
   "outputs": [],
   "source": [
    "#ucitavanje slike1 iz rada\n",
    "img = Image.open('slika1.png')\n",
    "img = img.convert('L')"
   ]
  },
  {
   "cell_type": "code",
   "execution_count": 6,
   "metadata": {
    "collapsed": false
   },
   "outputs": [],
   "source": [
    "#konvertovanje matrice u niz\n",
    "X = np.ravel(img).astype(int)"
   ]
  },
  {
   "cell_type": "code",
   "execution_count": 7,
   "metadata": {
    "collapsed": false
   },
   "outputs": [],
   "source": [
    "#parametri dobijeni na osnovu histograma (ovde uzeti iz rada)\n",
    "k = 4\n",
    "n = X.size\n",
    "p0 = np.array([0.0320, 0.1344, 0.0576, 0.7760])\n",
    "mu0 = np.array([40, 75, 210, 220]) \n",
    "sigma0= np.array([100,100,100,100]) "
   ]
  },
  {
   "cell_type": "code",
   "execution_count": 8,
   "metadata": {
    "collapsed": false
   },
   "outputs": [
    {
     "data": {
      "text/plain": [
       "array([[ 0.25,  0.25,  0.25, ...,  0.25,  0.25,  0.25],\n",
       "       [ 0.25,  0.25,  0.25, ...,  0.25,  0.25,  0.25],\n",
       "       [ 0.25,  0.25,  0.25, ...,  0.25,  0.25,  0.25],\n",
       "       [ 0.25,  0.25,  0.25, ...,  0.25,  0.25,  0.25]])"
      ]
     },
     "execution_count": 8,
     "metadata": {},
     "output_type": "execute_result"
    }
   ],
   "source": [
    "#matrica incijalizovana pocetnim verovatnocama p ili nulama\n",
    "P0 = np.tile(p0,[n,1]).T\n",
    "P0 = np.zeros([k,n])\n",
    "P0[:,:]=1/k\n",
    "P0"
   ]
  },
  {
   "cell_type": "code",
   "execution_count": 9,
   "metadata": {
    "collapsed": false
   },
   "outputs": [],
   "source": [
    "#funkcija Gausove distribucije\n",
    "def f(x,p,mu,sigma):\n",
    "    sum = 0;\n",
    "    for i in range (0,k):\n",
    "        sum += p[i]*mlab.normpdf(x,mu[i],sigma[i])\n",
    "    \n",
    "    return sum"
   ]
  },
  {
   "cell_type": "code",
   "execution_count": 10,
   "metadata": {
    "collapsed": false
   },
   "outputs": [],
   "source": [
    "#inicijalizacija parametara\n",
    "\n",
    "p_old = p0.copy()\n",
    "sigma_old = sigma0.copy()\n",
    "mu_old = mu0.copy()\n",
    "P_old = P0.copy()\n",
    "P_new = np.zeros(P_old.shape)\n",
    "p_new = np.zeros(k)\n",
    "sigma_new = np.zeros(k)\n",
    "mu_new = np.zeros(k)"
   ]
  },
  {
   "cell_type": "code",
   "execution_count": 11,
   "metadata": {
    "collapsed": false
   },
   "outputs": [
    {
     "name": "stdout",
     "output_type": "stream",
     "text": [
      "[[ 0.10142791  0.09725595  0.09622606 ...,  0.09520155  0.09933159\n",
      "   0.09725595]\n",
      " [ 0.39650271  0.38555377  0.38280845 ...,  0.38006062  0.39103542\n",
      "   0.38555377]\n",
      " [ 0.0409002   0.04197746  0.04224504 ...,  0.04251185  0.04144015\n",
      "   0.04197746]\n",
      " [ 0.46116918  0.47521282  0.47872045 ...,  0.48222598  0.46819283\n",
      "   0.47521282]]\n",
      "[[ 0.42330753  0.42327608  0.42326702 ...,  0.42325747  0.42329277\n",
      "   0.42327608]\n",
      " [ 0.15552836  0.15560815  0.15562952 ...,  0.15565146  0.15556712\n",
      "   0.15560815]\n",
      " [ 0.39735476  0.39729611  0.39728096 ...,  0.39726562  0.39732582\n",
      "   0.39729611]\n",
      " [ 0.02380935  0.02381966  0.0238225  ...,  0.02382544  0.0238143\n",
      "   0.02381966]]\n",
      "[[  1.21609336e-04   1.22438766e-04   1.22661157e-04 ...,   1.22889612e-04\n",
      "    1.22012075e-04   1.22438766e-04]\n",
      " [  1.43987985e-01   1.44942077e-01   1.45197303e-01 ...,   1.45459266e-01\n",
      "    1.44451722e-01   1.44942077e-01]\n",
      " [  7.09401932e-06   7.14240353e-06   7.15537652e-06 ...,   7.16870333e-06\n",
      "    7.11751283e-06   7.14240353e-06]\n",
      " [  8.55883312e-01   8.54928342e-01   8.54672880e-01 ...,   8.54410676e-01\n",
      "    8.55419149e-01   8.54928342e-01]]\n",
      "[[  1.09196430e-293   0.00000000e+000   0.00000000e+000 ...,\n",
      "    0.00000000e+000   0.00000000e+000   0.00000000e+000]\n",
      " [  9.99999193e-001   9.99999193e-001   9.99999193e-001 ...,\n",
      "    9.99999193e-001   9.99999193e-001   9.99999193e-001]\n",
      " [  0.00000000e+000   0.00000000e+000   0.00000000e+000 ...,\n",
      "    0.00000000e+000   0.00000000e+000   0.00000000e+000]\n",
      " [  8.06914765e-007   8.06803577e-007   8.06781947e-007 ...,\n",
      "    8.06762783e-007   8.06854236e-007   8.06803577e-007]]\n"
     ]
    },
    {
     "name": "stderr",
     "output_type": "stream",
     "text": [
      "C:\\Users\\Milosh\\Anaconda3\\lib\\site-packages\\matplotlib\\mlab.py:1545: RuntimeWarning: divide by zero encountered in double_scalars\n",
      "  return 1./(np.sqrt(2*np.pi)*sigma)*np.exp(-0.5 * (1./sigma*(x - mu))**2)\n",
      "C:\\Users\\Milosh\\Anaconda3\\lib\\site-packages\\matplotlib\\mlab.py:1545: RuntimeWarning: invalid value encountered in double_scalars\n",
      "  return 1./(np.sqrt(2*np.pi)*sigma)*np.exp(-0.5 * (1./sigma*(x - mu))**2)\n"
     ]
    },
    {
     "name": "stdout",
     "output_type": "stream",
     "text": [
      "[[ nan  nan  nan ...,  nan  nan  nan]\n",
      " [ nan  nan  nan ...,  nan  nan  nan]\n",
      " [ nan  nan  nan ...,  nan  nan  nan]\n",
      " [ nan  nan  nan ...,  nan  nan  nan]]\n",
      "[[ nan  nan  nan ...,  nan  nan  nan]\n",
      " [ nan  nan  nan ...,  nan  nan  nan]\n",
      " [ nan  nan  nan ...,  nan  nan  nan]\n",
      " [ nan  nan  nan ...,  nan  nan  nan]]\n",
      "[[ nan  nan  nan ...,  nan  nan  nan]\n",
      " [ nan  nan  nan ...,  nan  nan  nan]\n",
      " [ nan  nan  nan ...,  nan  nan  nan]\n",
      " [ nan  nan  nan ...,  nan  nan  nan]]\n",
      "[[ nan  nan  nan ...,  nan  nan  nan]\n",
      " [ nan  nan  nan ...,  nan  nan  nan]\n",
      " [ nan  nan  nan ...,  nan  nan  nan]\n",
      " [ nan  nan  nan ...,  nan  nan  nan]]\n",
      "[[ nan  nan  nan ...,  nan  nan  nan]\n",
      " [ nan  nan  nan ...,  nan  nan  nan]\n",
      " [ nan  nan  nan ...,  nan  nan  nan]\n",
      " [ nan  nan  nan ...,  nan  nan  nan]]\n"
     ]
    },
    {
     "ename": "KeyboardInterrupt",
     "evalue": "",
     "output_type": "error",
     "traceback": [
      "\u001b[0;31m---------------------------------------------------------------------------\u001b[0m",
      "\u001b[0;31mKeyboardInterrupt\u001b[0m                         Traceback (most recent call last)",
      "\u001b[0;32m<ipython-input-11-4c899ea99225>\u001b[0m in \u001b[0;36m<module>\u001b[0;34m()\u001b[0m\n\u001b[1;32m      5\u001b[0m         \u001b[0mval\u001b[0m \u001b[1;33m=\u001b[0m \u001b[1;33m[\u001b[0m\u001b[1;33m]\u001b[0m\u001b[1;33m\u001b[0m\u001b[0m\n\u001b[1;32m      6\u001b[0m         \u001b[1;32mfor\u001b[0m \u001b[0mj\u001b[0m \u001b[1;32min\u001b[0m \u001b[0mrange\u001b[0m\u001b[1;33m(\u001b[0m\u001b[0mn\u001b[0m\u001b[1;33m)\u001b[0m\u001b[1;33m:\u001b[0m\u001b[1;33m\u001b[0m\u001b[0m\n\u001b[0;32m----> 7\u001b[0;31m             \u001b[0mval\u001b[0m\u001b[1;33m.\u001b[0m\u001b[0mappend\u001b[0m\u001b[1;33m(\u001b[0m \u001b[0mp_old\u001b[0m\u001b[1;33m[\u001b[0m\u001b[0mi\u001b[0m\u001b[1;33m]\u001b[0m \u001b[1;33m*\u001b[0m \u001b[0mmlab\u001b[0m\u001b[1;33m.\u001b[0m\u001b[0mnormpdf\u001b[0m\u001b[1;33m(\u001b[0m\u001b[0mX\u001b[0m\u001b[1;33m[\u001b[0m\u001b[0mj\u001b[0m\u001b[1;33m]\u001b[0m\u001b[1;33m,\u001b[0m\u001b[0mmu_old\u001b[0m\u001b[1;33m[\u001b[0m\u001b[0mi\u001b[0m\u001b[1;33m]\u001b[0m\u001b[1;33m,\u001b[0m\u001b[0msigma_old\u001b[0m\u001b[1;33m[\u001b[0m\u001b[0mi\u001b[0m\u001b[1;33m]\u001b[0m\u001b[1;33m)\u001b[0m\u001b[1;33m/\u001b[0m\u001b[0mf\u001b[0m\u001b[1;33m(\u001b[0m\u001b[0mX\u001b[0m\u001b[1;33m[\u001b[0m\u001b[0mj\u001b[0m\u001b[1;33m]\u001b[0m\u001b[1;33m,\u001b[0m\u001b[0mp_old\u001b[0m\u001b[1;33m,\u001b[0m\u001b[0mmu_old\u001b[0m\u001b[1;33m,\u001b[0m\u001b[0msigma_old\u001b[0m\u001b[1;33m)\u001b[0m \u001b[1;33m)\u001b[0m\u001b[1;33m\u001b[0m\u001b[0m\n\u001b[0m\u001b[1;32m      8\u001b[0m         \u001b[0mP_new\u001b[0m\u001b[1;33m[\u001b[0m\u001b[0mi\u001b[0m\u001b[1;33m]\u001b[0m \u001b[1;33m=\u001b[0m \u001b[0mval\u001b[0m\u001b[1;33m\u001b[0m\u001b[0m\n\u001b[1;32m      9\u001b[0m \u001b[1;33m\u001b[0m\u001b[0m\n",
      "\u001b[0;32mC:\\Users\\Milosh\\Anaconda3\\lib\\site-packages\\matplotlib\\mlab.py\u001b[0m in \u001b[0;36mnormpdf\u001b[0;34m(x, *args)\u001b[0m\n\u001b[1;32m   1543\u001b[0m     \u001b[1;34m\"Return the normal pdf evaluated at *x*; args provides *mu*, *sigma*\"\u001b[0m\u001b[1;33m\u001b[0m\u001b[0m\n\u001b[1;32m   1544\u001b[0m     \u001b[0mmu\u001b[0m\u001b[1;33m,\u001b[0m \u001b[0msigma\u001b[0m \u001b[1;33m=\u001b[0m \u001b[0margs\u001b[0m\u001b[1;33m\u001b[0m\u001b[0m\n\u001b[0;32m-> 1545\u001b[0;31m     \u001b[1;32mreturn\u001b[0m \u001b[1;36m1.\u001b[0m\u001b[1;33m/\u001b[0m\u001b[1;33m(\u001b[0m\u001b[0mnp\u001b[0m\u001b[1;33m.\u001b[0m\u001b[0msqrt\u001b[0m\u001b[1;33m(\u001b[0m\u001b[1;36m2\u001b[0m\u001b[1;33m*\u001b[0m\u001b[0mnp\u001b[0m\u001b[1;33m.\u001b[0m\u001b[0mpi\u001b[0m\u001b[1;33m)\u001b[0m\u001b[1;33m*\u001b[0m\u001b[0msigma\u001b[0m\u001b[1;33m)\u001b[0m\u001b[1;33m*\u001b[0m\u001b[0mnp\u001b[0m\u001b[1;33m.\u001b[0m\u001b[0mexp\u001b[0m\u001b[1;33m(\u001b[0m\u001b[1;33m-\u001b[0m\u001b[1;36m0.5\u001b[0m \u001b[1;33m*\u001b[0m \u001b[1;33m(\u001b[0m\u001b[1;36m1.\u001b[0m\u001b[1;33m/\u001b[0m\u001b[0msigma\u001b[0m\u001b[1;33m*\u001b[0m\u001b[1;33m(\u001b[0m\u001b[0mx\u001b[0m \u001b[1;33m-\u001b[0m \u001b[0mmu\u001b[0m\u001b[1;33m)\u001b[0m\u001b[1;33m)\u001b[0m\u001b[1;33m**\u001b[0m\u001b[1;36m2\u001b[0m\u001b[1;33m)\u001b[0m\u001b[1;33m\u001b[0m\u001b[0m\n\u001b[0m\u001b[1;32m   1546\u001b[0m \u001b[1;33m\u001b[0m\u001b[0m\n\u001b[1;32m   1547\u001b[0m \u001b[1;33m\u001b[0m\u001b[0m\n",
      "\u001b[0;31mKeyboardInterrupt\u001b[0m: "
     ]
    }
   ],
   "source": [
    "for it in range(100): #broj iteracija\n",
    "    \n",
    "    # E - korak \n",
    "    for i in range (k):\n",
    "        val = []\n",
    "        for j in range(n):\n",
    "            val.append( p_old[i] * mlab.normpdf(X[j],mu_old[i],sigma_old[i])/f(X[j],p_old,mu_old,sigma_old) )\n",
    "        P_new[i] = val\n",
    "    \n",
    "    print(P_new)\n",
    "    \n",
    "    # M - korak\n",
    "    \n",
    "    for i in range (0,k):\n",
    "        p_new[i] = np.sum(P_old[i])/n\n",
    "        mu_new[i] = np.sum(P_new[i]*X)/(n*p_new[i])\n",
    "        sigma_new[i] = np.sum((P_new[i]*(X-mu_new[i])**2))/(n*p_new[i])          \n",
    "\n",
    "    # kriterijum zaustavljanja   \n",
    "    if(np.allclose(P_old,P_new, rtol=0.00001)):\n",
    "        break\n",
    "\n",
    "    \n",
    "    p_old = p_new.copy()\n",
    "    sigma_old = sigma_new.copy()\n",
    "    mu_old = mu_new.copy()\n",
    "    P_old = P_new.copy()\n"
   ]
  },
  {
   "cell_type": "code",
   "execution_count": 353,
   "metadata": {
    "collapsed": false
   },
   "outputs": [],
   "source": [
    "# konacan izlaz, za svaki piksel odredjeno kojem segmentu od 0 do k pripada sto se koristi za bojenje konacne slike\n",
    "args = np.argmax(P_new,axis=0) "
   ]
  },
  {
   "cell_type": "code",
   "execution_count": 354,
   "metadata": {
    "collapsed": false
   },
   "outputs": [
    {
     "data": {
      "text/plain": [
       "array([1], dtype=int32)"
      ]
     },
     "execution_count": 354,
     "metadata": {},
     "output_type": "execute_result"
    }
   ],
   "source": [
    "np.unique(args)"
   ]
  },
  {
   "cell_type": "code",
   "execution_count": null,
   "metadata": {
    "collapsed": true
   },
   "outputs": [],
   "source": []
  },
  {
   "cell_type": "code",
   "execution_count": null,
   "metadata": {
    "collapsed": true
   },
   "outputs": [],
   "source": []
  }
 ],
 "metadata": {
  "kernelspec": {
   "display_name": "Python 3",
   "language": "python",
   "name": "python3"
  },
  "language_info": {
   "codemirror_mode": {
    "name": "ipython",
    "version": 3
   },
   "file_extension": ".py",
   "mimetype": "text/x-python",
   "name": "python",
   "nbconvert_exporter": "python",
   "pygments_lexer": "ipython3",
   "version": "3.6.0"
  }
 },
 "nbformat": 4,
 "nbformat_minor": 2
}
