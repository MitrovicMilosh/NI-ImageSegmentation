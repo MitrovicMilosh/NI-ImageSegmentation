{
 "cells": [
  {
   "cell_type": "code",
   "execution_count": 1,
   "metadata": {
    "collapsed": true
   },
   "outputs": [],
   "source": [
    "import numpy as np \n",
    "import pandas as pd\n",
    "import matplotlib.pyplot as plt \n",
    "import matplotlib.mlab as mlab\n",
    "from PIL import Image\n",
    "from ipywidgets import widgets\n",
    "from IPython.display import display\n",
    "\n",
    "%matplotlib inline "
   ]
  },
  {
   "cell_type": "code",
   "execution_count": 2,
   "metadata": {
    "collapsed": false
   },
   "outputs": [
    {
     "data": {
      "text/plain": [
       "'Unesite naziv slike'"
      ]
     },
     "metadata": {},
     "output_type": "display_data"
    }
   ],
   "source": [
    "#Odabir slike\n",
    "name = widgets.Text()\n",
    "display(name)\n",
    "display(\"Unesite naziv slike\")"
   ]
  },
  {
   "cell_type": "code",
   "execution_count": 3,
   "metadata": {
    "collapsed": false
   },
   "outputs": [],
   "source": [
    "#Ucitavanje slike\n",
    "img = Image.open(name.value)\n",
    "img.show()\n",
    "img = np.array(img.convert('L'))\n",
    "data = np.ravel(img).astype('float')\n",
    "n = data.size"
   ]
  },
  {
   "cell_type": "code",
   "execution_count": 4,
   "metadata": {
    "collapsed": false
   },
   "outputs": [
    {
     "data": {
      "image/png": "[encoded data removed]",
      "text/plain": [
       "<matplotlib.figure.Figure at 0x92654d0>"
      ]
     },
     "metadata": {},
     "output_type": "display_data"
    }
   ],
   "source": [
    "#Histogram\n",
    "values, bins, _ = plt.hist(data,range=[0,256], ec='k', bins=10)"
   ]
  },
  {
   "cell_type": "code",
   "execution_count": 5,
   "metadata": {
    "collapsed": false
   },
   "outputs": [
    {
     "name": "stdout",
     "output_type": "stream",
     "text": [
      "values [   65.  1662.   160.   117.   196.     0.     0.     0.     0.     0.]\n",
      "bins [   0.    25.6   51.2   76.8  102.4  128.   153.6  179.2  204.8  230.4\n",
      "  256. ]\n"
     ]
    }
   ],
   "source": [
    "print('values',values)\n",
    "print('bins',bins)"
   ]
  },
  {
   "cell_type": "code",
   "execution_count": 6,
   "metadata": {
    "collapsed": false,
    "scrolled": false
   },
   "outputs": [
    {
     "data": {
      "text/plain": [
       "'Unesite vrednost k'"
      ]
     },
     "metadata": {},
     "output_type": "display_data"
    }
   ],
   "source": [
    "#Odredjivanje broja segmenata k na osnovu histograma\n",
    "getk = widgets.IntText()\n",
    "display('Unesite vrednost k')\n",
    "display(getk)"
   ]
  },
  {
   "cell_type": "code",
   "execution_count": 7,
   "metadata": {
    "collapsed": false
   },
   "outputs": [],
   "source": [
    "#incijalizacija parametara na osnovu histograma"
   ]
  },
  {
   "cell_type": "code",
   "execution_count": 8,
   "metadata": {
    "collapsed": false
   },
   "outputs": [],
   "source": [
    "k = getk.value\n",
    "index = np.argsort(-values)"
   ]
  },
  {
   "cell_type": "code",
   "execution_count": 9,
   "metadata": {
    "collapsed": false
   },
   "outputs": [],
   "source": [
    "bin_list = []\n",
    "for i in range(k):\n",
    "    b = []\n",
    "    \n",
    "    for x in data:\n",
    "        if(bins[index[i]] < x and x < bins[index[i]+1]):\n",
    "            b.append(x)\n",
    "\n",
    "    bin_list.append(b)"
   ]
  },
  {
   "cell_type": "code",
   "execution_count": 10,
   "metadata": {
    "collapsed": false
   },
   "outputs": [],
   "source": [
    "mu = np.zeros(k)\n",
    "sigma = np.zeros(k)\n",
    "for i in range(k):\n",
    "    mu[i] = np.array(bin_list[i]).mean()\n",
    "    sigma[i] = np.std(np.array(bin_list[i]))"
   ]
  },
  {
   "cell_type": "code",
   "execution_count": 11,
   "metadata": {
    "collapsed": false
   },
   "outputs": [],
   "source": [
    "gaussians = values[index[:k]]\n",
    "s = np.sum(gaussians)\n",
    "p = gaussians/s"
   ]
  },
  {
   "cell_type": "code",
   "execution_count": 12,
   "metadata": {
    "collapsed": false
   },
   "outputs": [
    {
     "name": "stdout",
     "output_type": "stream",
     "text": [
      "p [ 0.77845433  0.09180328  0.07494145  0.05480094]\n",
      "sigma [ 2.53481766  2.66138803  5.94157755  7.89302241]\n",
      "mu [  40.41275572  105.56122449   71.8125       95.53846154]\n"
     ]
    }
   ],
   "source": [
    "#parametri\n",
    "print('p',p)\n",
    "print('sigma',sigma)\n",
    "print('mu',mu)"
   ]
  },
  {
   "cell_type": "code",
   "execution_count": 13,
   "metadata": {
    "collapsed": false
   },
   "outputs": [],
   "source": [
    "#matrica P incijalizovana pocetnim verovatnocama p ili nulama ili jednakim verovatnocama\n",
    "P = np.tile(p,[n,1]).T\n",
    "P = np.zeros([k,n])\n",
    "P[:,:]=1/k"
   ]
  },
  {
   "cell_type": "code",
   "execution_count": 14,
   "metadata": {
    "collapsed": true
   },
   "outputs": [],
   "source": [
    "#funkcija Gausove distribucije\n",
    "def f(x,p,mu,sigma):\n",
    "    sum = 0;\n",
    "    for i in range (0,k):\n",
    "        sum += p[i]*mlab.normpdf(x,mu[i],sigma[i])\n",
    "    \n",
    "    return sum"
   ]
  },
  {
   "cell_type": "code",
   "execution_count": 15,
   "metadata": {
    "collapsed": true
   },
   "outputs": [],
   "source": [
    "#inicijalizacija parametara\n",
    "\n",
    "p_old = p.copy()\n",
    "sigma_old = sigma.copy()\n",
    "mu_old = mu.copy()\n",
    "P_old = P.copy()\n",
    "\n",
    "P_new = np.zeros(P_old.shape)\n",
    "p_new = np.zeros(k)\n",
    "sigma_new = np.zeros(k)\n",
    "mu_new = np.zeros(k)\n",
    "\n",
    "X = data"
   ]
  },
  {
   "cell_type": "code",
   "execution_count": 16,
   "metadata": {
    "collapsed": false
   },
   "outputs": [
    {
     "name": "stdout",
     "output_type": "stream",
     "text": [
      "[[  9.99999996e-001   9.99999939e-001   9.99999830e-001 ...,\n",
      "    9.99999459e-001   9.99999989e-001   9.99999939e-001]\n",
      " [  2.15660155e-145   1.89086321e-129   1.89702467e-125 ...,\n",
      "    1.93090930e-121   1.96183616e-137   1.89086321e-129]\n",
      " [  3.56946021e-009   6.09956348e-008   1.70488733e-007 ...,\n",
      "    5.41229755e-007   1.14385856e-008   6.09956348e-008]\n",
      " [  6.36590708e-014   9.96386827e-013   2.80944496e-012 ...,\n",
      "    9.10821417e-012   1.90503785e-013   9.96386827e-013]]\n",
      "[[  9.78537112e-01   9.78240610e-01   9.78063419e-01 ...,   9.77843417e-01\n",
      "    9.78470192e-01   9.78240610e-01]\n",
      " [  8.59187617e-21   1.53626939e-18   5.37292374e-18 ...,   1.84591899e-17\n",
      "    1.19057955e-19   1.53626939e-18]\n",
      " [  1.05444919e-02   1.05101044e-02   1.05521489e-02 ...,   1.06147431e-02\n",
      "    1.04868488e-02   1.05101044e-02]\n",
      " [  1.09183962e-02   1.12492857e-02   1.13844322e-02 ...,   1.15418399e-02\n",
      "    1.10429592e-02   1.12492857e-02]]\n",
      "[[  9.92595194e-01   9.92542489e-01   9.92514372e-01 ...,   9.92476427e-01\n",
      "    9.92577848e-01   9.92542489e-01]\n",
      " [  2.20648835e-05   7.93672037e-05   1.07973622e-04 ...,   1.46173709e-04\n",
      "    4.22587538e-05   7.93672037e-05]\n",
      " [  3.42718086e-03   3.42501817e-03   3.42478335e-03 ...,   3.42465751e-03\n",
      "    3.42584456e-03   3.42501817e-03]\n",
      " [  3.95556058e-03   3.95312575e-03   3.95287069e-03 ...,   3.95274167e-03\n",
      "    3.95404840e-03   3.95312575e-03]]\n",
      "[[ 0.79763989  0.79420694  0.79337361 ...,  0.79255048  0.79590373\n",
      "   0.79420694]\n",
      " [ 0.19667402  0.20013153  0.20097081 ...,  0.20179981  0.19842261\n",
      "   0.20013153]\n",
      " [ 0.00263983  0.00262843  0.00262567 ...,  0.00262295  0.00263406\n",
      "   0.00262843]\n",
      " [ 0.00304626  0.0030331   0.00302991 ...,  0.00302677  0.0030396\n",
      "   0.0030331 ]]\n",
      "[[ 0.80414709  0.80414824  0.80414829 ...,  0.80414825  0.80414785\n",
      "   0.80414824]\n",
      " [ 0.19012489  0.19012373  0.19012368 ...,  0.19012372  0.19012412\n",
      "   0.19012373]\n",
      " [ 0.0026593   0.00265931  0.00265931 ...,  0.00265931  0.00265931\n",
      "   0.00265931]\n",
      " [ 0.00306872  0.00306872  0.00306872 ...,  0.00306872  0.00306872\n",
      "   0.00306872]]\n",
      "[[ 0.80422389  0.80422391  0.80422391 ...,  0.80422391  0.8042239\n",
      "   0.80422391]\n",
      " [ 0.19004757  0.19004756  0.19004755 ...,  0.19004755  0.19004756\n",
      "   0.19004756]\n",
      " [ 0.00265954  0.00265954  0.00265954 ...,  0.00265954  0.00265954\n",
      "   0.00265954]\n",
      " [ 0.00306899  0.00306899  0.00306899 ...,  0.00306899  0.00306899\n",
      "   0.00306899]]\n",
      "[[ 0.80422446  0.80422446  0.80422446 ...,  0.80422446  0.80422446\n",
      "   0.80422446]\n",
      " [ 0.19004701  0.19004701  0.19004701 ...,  0.19004701  0.19004701\n",
      "   0.19004701]\n",
      " [ 0.00265954  0.00265954  0.00265954 ...,  0.00265954  0.00265954\n",
      "   0.00265954]\n",
      " [ 0.00306899  0.00306899  0.00306899 ...,  0.00306899  0.00306899\n",
      "   0.00306899]]\n",
      "[[ 0.80422446  0.80422446  0.80422446 ...,  0.80422446  0.80422446\n",
      "   0.80422446]\n",
      " [ 0.190047    0.190047    0.190047   ...,  0.190047    0.190047    0.190047  ]\n",
      " [ 0.00265954  0.00265954  0.00265954 ...,  0.00265954  0.00265954\n",
      "   0.00265954]\n",
      " [ 0.00306899  0.00306899  0.00306899 ...,  0.00306899  0.00306899\n",
      "   0.00306899]]\n"
     ]
    }
   ],
   "source": [
    "# E-M algoritam\n",
    "for it in range(100): #broj iteracija\n",
    "    \n",
    "    # E - korak \n",
    "    for i in range (k):\n",
    "        val = []\n",
    "        for j in range(n):\n",
    "            val.append( p_old[i] * mlab.normpdf(X[j],mu_old[i],sigma_old[i])/f(X[j],p_old,mu_old,sigma_old) )\n",
    "        P_new[i] = val\n",
    "    \n",
    "    print(P_new)\n",
    "    \n",
    "    # M - korak\n",
    "    \n",
    "    for i in range (0,k):\n",
    "        p_new[i] = np.sum(P_new[i])/n\n",
    "        mu_new[i] = np.sum(P_new[i]*X)/(n*p_new[i])\n",
    "        sigma_new[i] = np.sum((P_new[i]*(X-mu_new[i])**2))/(n*p_new[i])          \n",
    "\n",
    "    # kriterijum zaustavljanja   \n",
    "    if(np.allclose(P_old,P_new, rtol=0.00001)):\n",
    "        break\n",
    "\n",
    "    #azuriranje parametara\n",
    "    p_old = p_new.copy()\n",
    "    sigma_old = sigma_new.copy()\n",
    "    mu_old = mu_new.copy()\n",
    "    P_old = P_new.copy()\n"
   ]
  },
  {
   "cell_type": "code",
   "execution_count": 17,
   "metadata": {
    "collapsed": false
   },
   "outputs": [],
   "source": [
    "# konacan izlaz, za svaki piksel odredjeno kojem segmentu od 0 do k pripada sto se koristi za bojenje konacne slike\n",
    "args = np.argmax(P_new,axis=0)"
   ]
  },
  {
   "cell_type": "code",
   "execution_count": 18,
   "metadata": {
    "collapsed": true
   },
   "outputs": [],
   "source": [
    "#bojenje slike"
   ]
  },
  {
   "cell_type": "code",
   "execution_count": 19,
   "metadata": {
    "collapsed": true
   },
   "outputs": [],
   "source": [
    "colors = [[255,0,0],[0,255,0],[0,0,255],[255,255,0],[255,0,255],[0,255,255],[255,255,255],[0,0,0],[125,125,125]]"
   ]
  },
  {
   "cell_type": "code",
   "execution_count": 20,
   "metadata": {
    "collapsed": false
   },
   "outputs": [],
   "source": [
    "res = []\n",
    "for x in args:\n",
    "    for i in range(k):\n",
    "        if(x == i):\n",
    "            res.append(colors[i])"
   ]
  },
  {
   "cell_type": "code",
   "execution_count": 21,
   "metadata": {
    "collapsed": false
   },
   "outputs": [],
   "source": [
    "a,b = img.shape\n",
    "out_data = np.array(res).astype('uint8').reshape([a,b,3])"
   ]
  },
  {
   "cell_type": "code",
   "execution_count": 22,
   "metadata": {
    "collapsed": false
   },
   "outputs": [],
   "source": [
    "out = Image.fromarray(out_data,'RGB')\n",
    "out.save('izlaz.png','png')\n",
    "out.show()"
   ]
  },
  {
   "cell_type": "code",
   "execution_count": null,
   "metadata": {
    "collapsed": true
   },
   "outputs": [],
   "source": []
  }
 ],
 "metadata": {
  "kernelspec": {
   "display_name": "Python 3",
   "language": "python",
   "name": "python3"
  },
  "language_info": {
   "codemirror_mode": {
    "name": "ipython",
    "version": 3
   },
   "file_extension": ".py",
   "mimetype": "text/x-python",
   "name": "python",
   "nbconvert_exporter": "python",
   "pygments_lexer": "ipython3",
   "version": "3.6.0"
  },
  "widgets": {
   "state": {
    "1c72760597d64710b754061b1a3eb2fa": {
     "views": [
      {
       "cell_index": 1
      }
     ]
    },
    "419cd9616e6241f69f1d562613c31320": {
     "views": [
      {
       "cell_index": 5
      }
     ]
    }
   },
   "version": "1.2.0"
  }
 },
 "nbformat": 4,
 "nbformat_minor": 2
}
